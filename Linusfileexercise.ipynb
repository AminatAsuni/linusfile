{
  "nbformat": 4,
  "nbformat_minor": 0,
  "metadata": {
    "colab": {
      "provenance": []
    },
    "kernelspec": {
      "name": "python3",
      "display_name": "Python 3"
    },
    "language_info": {
      "name": "python"
    }
  },
  "cells": [
    {
      "cell_type": "code",
      "execution_count": null,
      "metadata": {
        "id": "whS5vDgixk49"
      },
      "outputs": [],
      "source": [
        "!mkdir linusfile"
      ]
    },
    {
      "cell_type": "code",
      "source": [
        "!touch linusfile/sample1.txt"
      ],
      "metadata": {
        "id": "lckdU9TtypvE"
      },
      "execution_count": null,
      "outputs": []
    },
    {
      "cell_type": "code",
      "source": [
        "!touch linusfile/sample2.txt"
      ],
      "metadata": {
        "id": "U5drj3vl3Y6a"
      },
      "execution_count": null,
      "outputs": []
    },
    {
      "cell_type": "code",
      "source": [
        "!touch linusfile/sample3.txt"
      ],
      "metadata": {
        "id": "u_d6mFmb3dPL"
      },
      "execution_count": null,
      "outputs": []
    },
    {
      "cell_type": "code",
      "source": [],
      "metadata": {
        "id": "0n4_tveZ3iJa"
      },
      "execution_count": null,
      "outputs": []
    },
    {
      "cell_type": "code",
      "source": [
        "from google.colab import drive\n",
        "drive.mount('/content/drive')"
      ],
      "metadata": {
        "id": "x0FgsDq13mMF"
      },
      "execution_count": null,
      "outputs": []
    },
    {
      "cell_type": "code",
      "source": [
        "!ls"
      ],
      "metadata": {
        "colab": {
          "base_uri": "https://localhost:8080/"
        },
        "id": "cev7TYjQ4Hlo",
        "outputId": "1ee098b3-98da-410b-a593-07ae31f566ff"
      },
      "execution_count": null,
      "outputs": [
        {
          "output_type": "stream",
          "name": "stdout",
          "text": [
            "linusfile  sample_data\n"
          ]
        }
      ]
    },
    {
      "cell_type": "code",
      "source": [
        "!cd /content/linusfile && ls"
      ],
      "metadata": {
        "colab": {
          "base_uri": "https://localhost:8080/"
        },
        "id": "6VauNOiV4P_0",
        "outputId": "3a0a2703-d2c0-4c91-cfa8-959736e83309"
      },
      "execution_count": null,
      "outputs": [
        {
          "output_type": "stream",
          "name": "stdout",
          "text": [
            "sample1.txt  sample2.txt  sample3.txt\n"
          ]
        }
      ]
    },
    {
      "cell_type": "code",
      "source": [
        "!find /content/linusfile -name '*.txt'"
      ],
      "metadata": {
        "colab": {
          "base_uri": "https://localhost:8080/"
        },
        "id": "GxZHrIuK4e2e",
        "outputId": "f75b5450-3274-469b-ff27-cdada23de46d"
      },
      "execution_count": null,
      "outputs": [
        {
          "output_type": "stream",
          "name": "stdout",
          "text": [
            "/content/linusfile/sample2.txt\n",
            "/content/linusfile/sample1.txt\n",
            "/content/linusfile/sample3.txt\n"
          ]
        }
      ]
    },
    {
      "cell_type": "code",
      "source": [
        "!wc /content/linusfile/sample1.txt"
      ],
      "metadata": {
        "colab": {
          "base_uri": "https://localhost:8080/"
        },
        "id": "i3QoQq5V4mVB",
        "outputId": "351b88e0-2335-4471-da80-08ee4e4bc435"
      },
      "execution_count": null,
      "outputs": [
        {
          "output_type": "stream",
          "name": "stdout",
          "text": [
            "  9  98 615 /content/linusfile/sample1.txt\n"
          ]
        }
      ]
    },
    {
      "cell_type": "code",
      "source": [
        "!wc /content/linusfile/sample2.txt"
      ],
      "metadata": {
        "colab": {
          "base_uri": "https://localhost:8080/"
        },
        "id": "PxugGuFy44pM",
        "outputId": "10d00d4a-4d92-4783-acd7-963ca1378e68"
      },
      "execution_count": null,
      "outputs": [
        {
          "output_type": "stream",
          "name": "stdout",
          "text": [
            " 14 108 702 /content/linusfile/sample2.txt\n"
          ]
        }
      ]
    },
    {
      "cell_type": "code",
      "source": [
        "!wc /content/linusfile/sample3.txt"
      ],
      "metadata": {
        "colab": {
          "base_uri": "https://localhost:8080/"
        },
        "id": "DsVejP0X47Ds",
        "outputId": "9551d2e2-4705-4c97-dbf8-25370253f2db"
      },
      "execution_count": null,
      "outputs": [
        {
          "output_type": "stream",
          "name": "stdout",
          "text": [
            " 19 138 894 /content/linusfile/sample3.txt\n"
          ]
        }
      ]
    },
    {
      "cell_type": "code",
      "source": [
        "!grep 'hello' /content/linusfile/sample1.txt"
      ],
      "metadata": {
        "id": "g_7RYbhf5G56"
      },
      "execution_count": null,
      "outputs": []
    },
    {
      "cell_type": "code",
      "source": [
        "!grep 'hello' /content/linusfile/sample2.txt"
      ],
      "metadata": {
        "id": "O6uujnhe5LpW"
      },
      "execution_count": null,
      "outputs": []
    },
    {
      "cell_type": "code",
      "source": [
        "!grep 'hello' /content/linusfile/sample3.txt"
      ],
      "metadata": {
        "id": "g53TxjQK5ODO"
      },
      "execution_count": null,
      "outputs": []
    },
    {
      "cell_type": "code",
      "source": [
        "!mkdir linusfile2"
      ],
      "metadata": {
        "id": "gHYqAo_X5Wi0"
      },
      "execution_count": null,
      "outputs": []
    },
    {
      "cell_type": "code",
      "source": [
        "!mv /content/linusfile/sample2.txt/content/linusfile2"
      ],
      "metadata": {
        "colab": {
          "base_uri": "https://localhost:8080/"
        },
        "id": "C2GlD_FE5e3N",
        "outputId": "6a86dc45-f710-4894-b23c-29c913537c92"
      },
      "execution_count": null,
      "outputs": [
        {
          "output_type": "stream",
          "name": "stdout",
          "text": [
            "mv: missing destination file operand after '/content/linusfile/sample2.txt/content/linusfile2'\n",
            "Try 'mv --help' for more information.\n"
          ]
        }
      ]
    },
    {
      "cell_type": "code",
      "source": [
        "! cp /content/linusfile/sample2.txt/content/linusfile2"
      ],
      "metadata": {
        "colab": {
          "base_uri": "https://localhost:8080/"
        },
        "id": "PaBVDiHn6usi",
        "outputId": "efb0eb3b-f98e-42ac-d5c4-7c489102a7ef"
      },
      "execution_count": null,
      "outputs": [
        {
          "output_type": "stream",
          "name": "stdout",
          "text": [
            "cp: missing destination file operand after '/content/linusfile/sample2.txt/content/linusfile2'\n",
            "Try 'cp --help' for more information.\n"
          ]
        }
      ]
    },
    {
      "cell_type": "code",
      "source": [
        "!ln -s /content/linusfile/sample1.txt/content/sample_data"
      ],
      "metadata": {
        "colab": {
          "base_uri": "https://localhost:8080/"
        },
        "id": "JM2PMfG5_Ti6",
        "outputId": "2da8e0eb-ebac-444f-a720-8e1fc28b3f71"
      },
      "execution_count": null,
      "outputs": [
        {
          "output_type": "stream",
          "name": "stdout",
          "text": [
            "ln: failed to create symbolic link './sample_data': File exists\n"
          ]
        }
      ]
    },
    {
      "cell_type": "code",
      "source": [
        "!find . -type f -mmin -1"
      ],
      "metadata": {
        "colab": {
          "base_uri": "https://localhost:8080/"
        },
        "id": "wSPEYRT17YMF",
        "outputId": "bf24ad4e-f6b2-4a72-e843-3b0278c4ac82"
      },
      "execution_count": null,
      "outputs": [
        {
          "output_type": "stream",
          "name": "stdout",
          "text": [
            "./.config/gce\n"
          ]
        }
      ]
    }
  ]
}